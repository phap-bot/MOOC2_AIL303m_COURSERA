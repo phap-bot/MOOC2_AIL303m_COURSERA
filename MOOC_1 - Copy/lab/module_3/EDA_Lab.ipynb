{
 "cells": [
  {
   "cell_type": "markdown",
   "id": "fa5fb1fc-4dbc-432e-bf60-9b072ef30fea",
   "metadata": {},
   "source": [
    "<p style=\"text-align:center\">\n",
    "    <a href=\"https://skills.network\" target=\"_blank\">\n",
    "    <img src=\"https://cf-courses-data.s3.us.cloud-object-storage.appdomain.cloud/assets/logos/SN_web_lightmode.png\" width=\"200\" alt=\"Skills Network Logo\">\n",
    "    </a>\n",
    "</p>\n"
   ]
  },
  {
   "cell_type": "markdown",
   "id": "d1062571-b044-4275-a791-5d76fc70a3a0",
   "metadata": {},
   "source": [
    "# **Exploratory Data Analysis**\n"
   ]
  },
  {
   "cell_type": "markdown",
   "id": "99efd4ec-5fbc-4c99-9398-2d7be3aa5c6b",
   "metadata": {},
   "source": [
    "Estimated time needed: **30** minutes\n",
    "\n",
    "Exploratory Data Analysis (EDA) is the crucial process of using summary statistics and graphical representations to perform preliminary investigations on data to uncover patterns, detect anomalies, test hypotheses, and verify assumptions.\n",
    "\n",
    "In this notebook, we will learn some interesting and useful data exploration techniques that can be applied to explore any geographical data.\n"
   ]
  },
  {
   "cell_type": "markdown",
   "id": "c8e93719-bbdd-44f3-bf3f-5bbe7c938af6",
   "metadata": {},
   "source": [
    "## Objectives\n"
   ]
  },
  {
   "cell_type": "markdown",
   "id": "6cc3ef5f-0feb-41a2-926c-5dd6e951999f",
   "metadata": {},
   "source": [
    "*After completing this lab you will be able to:*\n",
    "\n",
    "*   Do Data Wrangling\n",
    "*   Do Data Filtering \n",
    "*   Plot with <code>plotly.express</code>\n",
    "*   Produce choropleth map\n"
   ]
  },
  {
   "cell_type": "markdown",
   "id": "2d7344cc-a6d7-4b81-b3ae-1c0f61236b28",
   "metadata": {},
   "source": [
    "***\n"
   ]
  },
  {
   "cell_type": "markdown",
   "id": "8fbbe531-fe3e-48fb-a79c-e0e22902d964",
   "metadata": {},
   "source": [
    "## **Setup**\n"
   ]
  },
  {
   "cell_type": "markdown",
   "id": "f7fb24d7-0697-45aa-ae6a-962231cbc36c",
   "metadata": {},
   "source": [
    "For this lab, we will be using the following libraries:\n",
    " - [`pandas`](https://pandas.pydata.org/) for managing the data.\n",
    " - [`plotly.express`](https://plotly.com/python/plotly-express/) for visualizing the data.\n",
    " - [`json`](https://docs.python.org/3/library/json.html/) for reading json file formats.\n",
    " \n"
   ]
  },
  {
   "cell_type": "markdown",
   "id": "cd7f508f-f0b1-4d25-8196-4b0f60c58123",
   "metadata": {},
   "source": [
    "## **Installing Required Libraries**\n"
   ]
  },
  {
   "cell_type": "markdown",
   "id": "1a620c19-2568-47df-b3a0-83ce18c25ba1",
   "metadata": {},
   "source": [
    "The following required modules are pre-installed in the Skills Network Labs environment. However, if you run this notebook commands in a different Jupyter environment (e.g. Watson Studio or Ananconda) you will need to install these libraries by removing the `#` sign before `!mamba` in the code cell below.\n"
   ]
  },
  {
   "cell_type": "code",
   "execution_count": null,
   "id": "e991f6c4-05ac-476e-9b1b-8e15f17962bc",
   "metadata": {},
   "outputs": [],
   "source": [
    "# All Libraries required for this lab are listed below. The libraries pre-installed on Skills Network Labs are commented.\n",
    "# !mamba install -qy pandas==1.3.4 numpy==1.21.4 seaborn==0.9.0 matplotlib==3.5.0 scikit-learn==0.20.1\n",
    "# Note: If your environment doesn't support \"!mamba install\", use \"!pip install\""
   ]
  },
  {
   "cell_type": "code",
   "execution_count": null,
   "id": "f450eba0-b228-42fa-8088-407eb80c7106",
   "metadata": {},
   "outputs": [],
   "source": [
    "import pandas as pd\n",
    "#pandas for data handling\n",
    "import plotly.express as px\n",
    "#lotly express for interactive charts\n",
    "import datetime \n",
    "#datetime utilities (dates on x-axis etc.)\n",
    "import requests\n",
    "#requests for optional API calls\n",
    "import json\n",
    "#json handling if needed for API responses"
   ]
  },
  {
   "cell_type": "markdown",
   "id": "5a119fe5-95c5-43b8-8633-31bd8c639e0f",
   "metadata": {},
   "source": [
    "## **Reading and understanding our data**\n"
   ]
  },
  {
   "cell_type": "markdown",
   "id": "68fb6d56-8ab1-4bc5-b381-b8cf8af13175",
   "metadata": {},
   "source": [
    "The dataset in this lab is <a href=\"https://www150.statcan.gc.ca/t1/tbl1/en/tv.action?pid=1810000101\">Monthly average retail prices for gasoline and fuel oil, by geography</a>  . It is available through Statistics Canada and includes monthly average gasoline price (Cents per Litre), of major Canadian Cities, starting from 1979 until recent. \n"
   ]
  },
  {
   "cell_type": "markdown",
   "id": "df1dfd56-36ec-4d50-ae8b-d565d753d568",
   "metadata": {},
   "source": [
    "Another dataset, <a href=\"https://thomson.carto.com/tables/canada_provinces/public/map\">canada_provinces.geojson</a>, contains the mapping information of all Canadian Provinces. It will be used in our analysis to produce a choropleth map. \n"
   ]
  },
  {
   "cell_type": "markdown",
   "id": "680537dd-3be8-4179-adb5-e47f90d59ca9",
   "metadata": {},
   "source": [
    "Let's read the data into *pandas* dataframe and look at the first 5 rows using the `head()` method. \n"
   ]
  },
  {
   "cell_type": "code",
   "execution_count": null,
   "id": "4cd9b0db-67d0-4ae7-b43a-c63bc36e3b52",
   "metadata": {},
   "outputs": [],
   "source": [
    "gasoline = pd.read_csv(\"https://cf-courses-data.s3.us.cloud-object-storage.appdomain.cloud/IBM-ML0232EN-SkillsNetwork/asset/18100001.csv\")\n",
    "# read dataset from URL\n",
    "gasoline.head()\n",
    "# quick peek at first rows"
   ]
  },
  {
   "cell_type": "markdown",
   "id": "a16c9059-02b5-4a4c-b435-f70949ae4697",
   "metadata": {},
   "source": [
    "Let's find out how many entries there are in our dataset, using `shape` function.\n"
   ]
  },
  {
   "cell_type": "code",
   "execution_count": null,
   "id": "0ffe55c8-c0ca-4d1c-90ef-7503b0652ad7",
   "metadata": {},
   "outputs": [],
   "source": [
    "gasoline.shape\n",
    "#rows, columns"
   ]
  },
  {
   "cell_type": "markdown",
   "id": "08a83b32-0120-4578-a707-837e018152a9",
   "metadata": {},
   "source": [
    "Using `info` function, we will take a look at our types of data.\n"
   ]
  },
  {
   "cell_type": "code",
   "execution_count": null,
   "id": "765ef986-02eb-4610-8216-e4bd86e576fb",
   "metadata": {},
   "outputs": [],
   "source": [
    "gasoline.info()\n",
    "# column types + missing values overview"
   ]
  },
  {
   "cell_type": "markdown",
   "id": "172a75bc-a4f2-4b34-b438-922ed0db4bd6",
   "metadata": {},
   "source": [
    "Using `columns` method, we will print all the column names.\n"
   ]
  },
  {
   "cell_type": "code",
   "execution_count": null,
   "id": "34f3deb1-5474-402e-a194-383cbeefbc78",
   "metadata": {},
   "outputs": [],
   "source": [
    "gasoline.columns"
   ]
  },
  {
   "cell_type": "markdown",
   "id": "13bdaa06-0d55-41df-ae49-598ab0c14ce0",
   "metadata": {},
   "source": [
    "Below, we will check for any missing values.\n"
   ]
  },
  {
   "cell_type": "code",
   "execution_count": null,
   "id": "52426217-4b3c-45d1-b571-c8f039fdd620",
   "metadata": {},
   "outputs": [],
   "source": [
    "gasoline.isnull().sum()"
   ]
  },
  {
   "cell_type": "markdown",
   "id": "5b494e28-1ab2-474e-a893-1a1a513a7198",
   "metadata": {},
   "source": [
    "## **Data Wrangling** \n",
    "### Selecting and renaming the columns of interest\n"
   ]
  },
  {
   "cell_type": "markdown",
   "id": "12acb5bc-6215-4f8b-b899-ac48a09b7e4a",
   "metadata": {},
   "source": [
    "Below, we are filtering our data, by selecting only the relevant columns. Also, we are using the `rename()` method to change the name of the columns.\n"
   ]
  },
  {
   "cell_type": "code",
   "execution_count": null,
   "id": "d755e4df-3494-403d-88c3-8a6e2122e701",
   "metadata": {},
   "outputs": [],
   "source": [
    "data = (gasoline[['REF_DATE','GEO','Type of fuel','VALUE']]).rename(columns={\"REF_DATE\" : \"DATE\", \"Type of fuel\" : \"TYPE\"})\n",
    "data.head()\n",
    "# quick peek at first rows"
   ]
  },
  {
   "cell_type": "markdown",
   "id": "d2bc0d79-482a-47f6-8d29-27663aea7592",
   "metadata": {},
   "source": [
    "### Splitting the columns\n"
   ]
  },
  {
   "cell_type": "markdown",
   "id": "e2050da0-2bfb-47f7-902d-c1512ef6ff83",
   "metadata": {},
   "source": [
    "The `str.split()` function splits the string records, by a 'comma', with `n=1` slplit, and <code>Expend=True</code> , returns a dataframe. Below, we are splitting 'GEO' into 'City' and 'Province'.\n"
   ]
  },
  {
   "cell_type": "code",
   "execution_count": null,
   "id": "922a7eb5-f6ff-4d4d-957f-3b0de4fd8910",
   "metadata": {},
   "outputs": [],
   "source": [
    "data[['City', 'Province']] = data['GEO'].str.split(',', n=1, expand=True)"
   ]
  },
  {
   "cell_type": "code",
   "execution_count": null,
   "id": "d36841f8-aa86-4ff6-9936-ea0a9ada90bd",
   "metadata": {},
   "outputs": [],
   "source": [
    "data.head()\n",
    "# quick peek at first rows"
   ]
  },
  {
   "cell_type": "markdown",
   "id": "88be950d-4397-4013-bc2f-913f5333050b",
   "metadata": {},
   "source": [
    "### Changing to *datetime* format\n"
   ]
  },
  {
   "cell_type": "markdown",
   "id": "6339aa70-4805-43c8-88f3-d11d237ebdf2",
   "metadata": {},
   "source": [
    "If we scroll up to our `gasoline.info()` section, we can find that  'REF_DATE' is an object type. To be able to filter by day, month, or year, we need to change the format from object type to *datetime*. Pandas function `to_datetime()` transforms to date time format. Also, we need to specify the format of *datetime* that we need. In our case, `format='%b-%y'` means that it will split into the name of a month and year. `str.slice(stop=3)` splits and outputs the first 3 letters of a month. For more information on how to transform to *datetime*, please visit [this](https://pandas.pydata.org/pandas-docs/stable/reference/api/pandas.to_datetime.html) pandas documentation. Also, [this](https://strftime.org) web page contains more information on *datetime* formats.\n"
   ]
  },
  {
   "cell_type": "code",
   "execution_count": null,
   "id": "8f17cfc2-b169-4731-ab99-06f673667a89",
   "metadata": {},
   "outputs": [],
   "source": [
    "data['DATE'] = pd.to_datetime(data['DATE'], format='%b-%y')\n",
    "#convert to datetime for proper time -based plots\n",
    "data['Month'] = data['DATE'].dt.month_name().str.slice(stop=3)\n",
    "data['Year'] = data['DATE'].dt.year"
   ]
  },
  {
   "cell_type": "code",
   "execution_count": null,
   "id": "dcdaa623-6559-4d4a-899d-5aa5c2c63890",
   "metadata": {},
   "outputs": [],
   "source": [
    "data.head()\n",
    "# quick peek at first rows"
   ]
  },
  {
   "cell_type": "markdown",
   "id": "dc22ed3f-c419-46fd-afac-0c0cd7e84545",
   "metadata": {},
   "source": [
    "The `describe()` function provides statistical information about the numeric variables. Since we only have the 'VALUE' variable that we want statistical information on, we will filter it by `data.VALUE.describe()` function.\n"
   ]
  },
  {
   "cell_type": "code",
   "execution_count": null,
   "id": "2295cced-17d6-46d7-a773-d632f7cfc28f",
   "metadata": {},
   "outputs": [],
   "source": [
    "data.VALUE.describe()\n",
    "#summary stats (mean, std, quartiles)\n",
    "#can also use  data['VALUE'].describe()\n",
    "#summary stats (mean, std, quartiles)"
   ]
  },
  {
   "cell_type": "markdown",
   "id": "bb399418-2626-478e-85a6-773855d4fcf1",
   "metadata": {},
   "source": [
    "Now, it is useful to know what is inside our categorical variables. We will use `unique().tolist()` functions to print out all of our 'GEO' colunm.\n"
   ]
  },
  {
   "cell_type": "code",
   "execution_count": null,
   "id": "459c84e4-eee5-4c82-aa05-7e63c5183c0f",
   "metadata": {},
   "outputs": [],
   "source": [
    "data.GEO.unique().tolist()\n",
    "# can also use  data['GEO'].unique().tolist()"
   ]
  },
  {
   "cell_type": "markdown",
   "id": "c24a510f-32bc-4e6c-beec-f28fa035cdec",
   "metadata": {},
   "source": [
    "## Exercise 1\n"
   ]
  },
  {
   "cell_type": "markdown",
   "id": "fe6858f8-7348-4902-be54-b88fe6df0c11",
   "metadata": {},
   "source": [
    "In this exercise, print out all categories in 'TYPE' column.\n"
   ]
  },
  {
   "cell_type": "code",
   "execution_count": null,
   "id": "8e44aa32-9d3a-4bdf-88dd-7fc32a7445f7",
   "metadata": {},
   "outputs": [],
   "source": [
    "data.TYPE.unique().tolist()"
   ]
  },
  {
   "cell_type": "markdown",
   "id": "5bbe771d-928d-46ea-bebe-899eb4548bfd",
   "metadata": {},
   "source": [
    "## **Data Filtering** \n"
   ]
  },
  {
   "cell_type": "markdown",
   "id": "05516719-c706-4061-82a4-6b0d0d611eac",
   "metadata": {},
   "source": [
    "This section will introduce you to some of the most common filtering techniques when working with pandas dataframes.\n"
   ]
  },
  {
   "cell_type": "markdown",
   "id": "04a4b777-b243-495a-a2f6-5460436828d4",
   "metadata": {},
   "source": [
    "### Filtering with logical operators\n"
   ]
  },
  {
   "cell_type": "markdown",
   "id": "1a14d405-bbe9-4af4-9e4b-646ca8ede2fc",
   "metadata": {},
   "source": [
    "We can use the logical operators on column values to filter rows. First, we  specify the name of our data, then, square brackets to select the name of the column, double 'equal' sign, '==' to select the name of a row group, in single or double quotation marks. If we want to exclude some entries (e.g. some locations), we would use the 'equal' and 'exclamation point' signs together, '=!'. We can also use '</>', '<=/>=' signs to select numeric information.\n",
    "\n",
    "Let's select the Calgary, Alberta data to see all the information.\n"
   ]
  },
  {
   "cell_type": "code",
   "execution_count": null,
   "id": "265616da-15a2-4386-8d0b-746d036a0da3",
   "metadata": {},
   "outputs": [],
   "source": [
    "calgary = data[data['GEO'] == 'Calgary, Alberta']\n",
    "calgary"
   ]
  },
  {
   "cell_type": "markdown",
   "id": "703b107b-69ad-4979-a9c6-24c875e4787d",
   "metadata": {},
   "source": [
    "Now, let's select 2000 year.\n"
   ]
  },
  {
   "cell_type": "code",
   "execution_count": null,
   "id": "697a9269-c43f-45ee-8a2f-01ac6940aa54",
   "metadata": {},
   "outputs": [],
   "source": [
    "sel_years = data[data['Year'] ==  2000]\n",
    "sel_years"
   ]
  },
  {
   "cell_type": "markdown",
   "id": "5d80fb80-1698-44d2-9a94-f32a72de16f6",
   "metadata": {},
   "source": [
    "### Filtering by multiple conditions\n"
   ]
  },
  {
   "cell_type": "markdown",
   "id": "f91c9172-8a6d-4f17-a78f-47e782f6020c",
   "metadata": {},
   "source": [
    "There are many alternative ways to perform filtering in pandas. We can also use '|' ('or') and '&' (and) to select multiple columns and rows. \n"
   ]
  },
  {
   "cell_type": "markdown",
   "id": "3bd77088-0383-46c5-abc1-091db8d8ad11",
   "metadata": {},
   "source": [
    "For example, let us select Toronto and Edmonton locations.\n"
   ]
  },
  {
   "cell_type": "code",
   "execution_count": null,
   "id": "14585c3e-97c4-41a9-a08f-0bbc103f8916",
   "metadata": {},
   "outputs": [],
   "source": [
    "mult_loc = data[(data['GEO'] == \"Toronto, Ontario\") | (data['GEO'] == \"Edmonton, Alberta\")]\n",
    "mult_loc"
   ]
  },
  {
   "cell_type": "markdown",
   "id": "1ddfc6e1-afc0-4519-bc16-2d4ff8337b5f",
   "metadata": {},
   "source": [
    "Alternatively, we can use `isin` method to select multiple locations.\n"
   ]
  },
  {
   "cell_type": "code",
   "execution_count": null,
   "id": "221ee26d-8a8b-4f17-bc5f-6e0b01a120ea",
   "metadata": {},
   "outputs": [],
   "source": [
    "cities = ['Calgary', 'Toronto', 'Edmonton']\n",
    "CTE = data[data.City.isin(cities)]\n",
    "CTE"
   ]
  },
  {
   "cell_type": "markdown",
   "id": "2ac064f5-5951-4430-9ad9-79e0503412c7",
   "metadata": {},
   "source": [
    "## Exercise 2 a\n"
   ]
  },
  {
   "cell_type": "markdown",
   "id": "51ec6d66-8680-4503-baa0-825b78887af4",
   "metadata": {},
   "source": [
    "In this exercise, please use the examples shown above, to select the data that shows the price of the 'household heating fuel', in Vancouver, in 1990.\n"
   ]
  },
  {
   "cell_type": "code",
   "execution_count": null,
   "id": "a68496d8-60af-467b-bda4-4c84c5324aa9",
   "metadata": {},
   "outputs": [],
   "source": [
    "exercise2a = data[( data['Year'] ==  1990) & (data['TYPE'] == \"Household heating fuel\") & (data['City']=='Vancouver')]\n",
    "exercise2a"
   ]
  },
  {
   "cell_type": "markdown",
   "id": "3b1778ba-7f86-43ca-ae3e-5e238fdcab37",
   "metadata": {},
   "source": [
    "## Exercise 2 b\n"
   ]
  },
  {
   "cell_type": "markdown",
   "id": "afb66164-746c-4fb9-89b1-60d8a35d90e9",
   "metadata": {},
   "source": [
    "In this exercise, please select the data that shows the price of the 'household heating fuel', in Vancouver, in the years of 1979 and 2021.\n"
   ]
  },
  {
   "cell_type": "code",
   "execution_count": null,
   "id": "120a176d-402f-4f36-9098-9025908c6085",
   "metadata": {},
   "outputs": [],
   "source": [
    "exercise2b = data[( data['Year'] <=  1979) | ( data['Year'] ==  2021) & (data['TYPE'] == \"Household heating fuel\") & (data['City']=='Vancouver')]\n",
    "exercise2b"
   ]
  },
  {
   "cell_type": "markdown",
   "id": "a4f81cc6-82df-4225-8221-a3d45a976b5b",
   "metadata": {},
   "source": [
    "<details>\n",
    "<summary><strong>Hint</strong> (Click Here)</summary>\n",
    "    &emsp; &emsp; <code>\n",
    "If we use '&' operator between the two years, it will return an empty data frame. This is because there was no data for the 'household heating fuel, in Vancouver, in 1979. Using 'or' operator is suitable because either one of two years that contains any information on 'household heating fuel' in Vancouver.\n",
    "</code>\n",
    "</details>\n"
   ]
  },
  {
   "cell_type": "markdown",
   "id": "7a6cd71e-404d-47a7-8fec-091a387ebc50",
   "metadata": {},
   "source": [
    "### Filtering using `groupby()` method\n"
   ]
  },
  {
   "cell_type": "markdown",
   "id": "49af7901-b5c0-4304-ab8e-2d61257a81a2",
   "metadata": {},
   "source": [
    "The role of `groupby()` is to analyze data by some categories. The simplest call is by a column name. For example, let’s use the 'GEO' column and `ngroups` function to calculate the number of groups (cities, provinces) in 'GEO' column.\n"
   ]
  },
  {
   "cell_type": "code",
   "execution_count": null,
   "id": "a7f02596-1eb8-4818-a312-d5117764f5a7",
   "metadata": {},
   "outputs": [],
   "source": [
    "geo = data.groupby('GEO')\n",
    "geo.ngroups"
   ]
  },
  {
   "cell_type": "markdown",
   "id": "b5618791-7d72-4a6c-8264-e516d8763f9f",
   "metadata": {},
   "source": [
    "Most commonly, we use `groupby()` to split the data into groups,this will apply some function to each of the groups (e.g. mean, median, min, max, count), then combine the results into a data structure. For example, let's select the 'VALUE' column and calculate the mean of the gasoline prices per year. First, we specify the 'Year\" column, following by the 'VALUE' column, and the `mean()` function.\n"
   ]
  },
  {
   "cell_type": "code",
   "execution_count": null,
   "id": "e170752b-139f-4a66-a9c5-233f982bb407",
   "metadata": {},
   "outputs": [],
   "source": [
    "group_year = data.groupby(['Year'])['VALUE'].mean()\n",
    "# aggregate by group to summarize\n",
    "group_year"
   ]
  },
  {
   "cell_type": "markdown",
   "id": "f5734774-94c3-4c80-ba6f-e0b359ca8e35",
   "metadata": {},
   "source": [
    "## Exercise 3 a\n"
   ]
  },
  {
   "cell_type": "markdown",
   "id": "e8088d58-9d47-4a65-8841-ed6f044bd545",
   "metadata": {},
   "source": [
    "In the cell below, please use `groupby()` method to group by the maximum value of gasoline prices, for each month. \n"
   ]
  },
  {
   "cell_type": "code",
   "execution_count": null,
   "id": "d7ffbaad-849d-4ed5-92c2-a636c586ba73",
   "metadata": {},
   "outputs": [],
   "source": [
    "exercise3a = data.groupby(['Month'])['VALUE'].max()"
   ]
  },
  {
   "cell_type": "code",
   "execution_count": null,
   "id": "e38f4813-c9ed-4a5b-9610-59e21da10bc7",
   "metadata": {},
   "outputs": [],
   "source": [
    "exercise3a"
   ]
  },
  {
   "cell_type": "markdown",
   "id": "147c9f96-a270-4c52-bafe-2330e2026ac2",
   "metadata": {},
   "source": [
    "## Exercise 3 b\n"
   ]
  },
  {
   "cell_type": "markdown",
   "id": "a02ce8ed-7da1-4d2a-99fc-50a1ed469bfd",
   "metadata": {},
   "source": [
    "In the cell below, please use `groupby()` method to group by the median value of gasoline prices, for each year and each city. \n"
   ]
  },
  {
   "cell_type": "code",
   "execution_count": null,
   "id": "e97a0e41-a7fe-488e-978c-3923a85e7621",
   "metadata": {},
   "outputs": [],
   "source": [
    "exercise3b = data.groupby(['Year', 'City'])['VALUE'].median()"
   ]
  },
  {
   "cell_type": "markdown",
   "id": "8d04998a-ea02-4055-b287-ea076261fc57",
   "metadata": {},
   "source": [
    "<details>\n",
    "<summary><strong>Hint</strong> (Click Here)</summary>\n",
    "    &emsp; &emsp; <code>\n",
    "    \n",
    "We can also reset the index of the new data output, by using `reset_index()`, and round up the output values to 2 decimal places.\n",
    "\n",
    "exercise3b = data.groupby(['Year', 'City'])['VALUE'].median().reset_index(name ='Value').round(2)\n",
    "\n",
    "</code>\n",
    "</details>\n"
   ]
  },
  {
   "cell_type": "markdown",
   "id": "c0cf3b1f-dd33-4cde-b2cf-97e13fe7b09a",
   "metadata": {},
   "source": [
    "## **Visualizing the data with *pandas* plotly.express** \n"
   ]
  },
  {
   "cell_type": "markdown",
   "id": "5f656c4e-8fa1-4c2c-86fa-09c5ff494d66",
   "metadata": {},
   "source": [
    "The *plotly.express* library (usually imported as px) contains functions that can create entire figures at once. *plotly.express* is a built-in part of the *plotly* library, and makes creation of most common figures very easy. For more information on *plotly.express*, please refer to [this](https://plotly.com/python/plotly-express/) documentation.\n"
   ]
  },
  {
   "cell_type": "markdown",
   "id": "9d1bf6f3-b992-4cc8-8f58-3b7350ebecb9",
   "metadata": {},
   "source": [
    "Here, we will plot the prices of gasoline in all cities during 1979 - 2021.\n"
   ]
  },
  {
   "cell_type": "code",
   "execution_count": null,
   "id": "3677c667-2917-44c9-87fb-b3a1fcf264e0",
   "metadata": {},
   "outputs": [],
   "source": [
    "price_bycity = data.groupby(['Year', 'GEO'])['VALUE'].mean().reset_index(name ='Value').round(2)\n",
    "# aggregate by group to summarize"
   ]
  },
  {
   "cell_type": "code",
   "execution_count": null,
   "id": "208985be-0183-4d6c-9161-a3560e19d429",
   "metadata": {},
   "outputs": [],
   "source": [
    "fig = px.line(price_bycity\n",
    "# line chart over time\n",
    "                   ,x='Year', y = \"Value\", \n",
    "                   color = \"GEO\", color_discrete_sequence=px.colors.qualitative.Light24)\n",
    "fig.update_traces(mode='markers+lines')\n",
    "# style traces (markers/lines)\n",
    "fig.update_layout(\n",
    "# tweak titles, axes, legend for readability\n",
    "    title=\"Gasoline Price Trend per City\",\n",
    "    xaxis_title=\"Year\",\n",
    "    yaxis_title=\"Annual Average Price, Cents per Litre\")\n",
    "fig.show()"
   ]
  },
  {
   "cell_type": "markdown",
   "id": "8ae4081b-6059-445c-a0e1-56fa32fd5066",
   "metadata": {},
   "source": [
    "Here, we will plot the average monthly prices of gasoline in Toronto for the year of 2021.\n"
   ]
  },
  {
   "cell_type": "code",
   "execution_count": null,
   "id": "dad299e6-36a8-4555-b848-6160129cae38",
   "metadata": {},
   "outputs": [],
   "source": [
    "mon_trend = data[(data['Year'] ==  2021) & (data['GEO'] == \"Toronto, Ontario\")]\n",
    "group_month = mon_trend.groupby(['Month'])['VALUE'].mean().reset_index().sort_values(by=\"VALUE\")\n",
    "# aggregate by group to summarize"
   ]
  },
  {
   "cell_type": "code",
   "execution_count": null,
   "id": "d752b638-0ea9-4ce3-8491-56a693fa0086",
   "metadata": {},
   "outputs": [],
   "source": [
    "fig = px.line(group_month,\n",
    "# line chart over time\n",
    "                   x='Month', y = \"VALUE\")\n",
    "fig.update_traces(mode='markers+lines')\n",
    "# style traces (markers/lines)\n",
    "fig.update_layout(\n",
    "# tweak titles, axes, legend for readability\n",
    "    title=\"Toronto Average Monthly Gasoline Price in 2021\",\n",
    "    xaxis_title=\"Month\",\n",
    "    yaxis_title=\"Monthly Price, Cents per Litre\")\n",
    "fig.show()\n"
   ]
  },
  {
   "cell_type": "markdown",
   "id": "c0a13f9e-487a-4c6e-a48b-65b18938d5c4",
   "metadata": {},
   "source": [
    "## Exercise 4\n"
   ]
  },
  {
   "cell_type": "markdown",
   "id": "b4a4066a-8137-4e71-beaa-393fc62c1e8e",
   "metadata": {},
   "source": [
    "In the cell below, use *plotly.express* or other libraries, to plot the annual average gasoline price, per year, per gasoline type.\n"
   ]
  },
  {
   "cell_type": "code",
   "execution_count": null,
   "id": "3bc87add-b3c8-4ad1-8c76-470eaf0ed9b9",
   "metadata": {},
   "outputs": [],
   "source": [
    "type_gas = data.groupby(['Year', 'TYPE'])['VALUE'].mean().reset_index(name ='Type').round(2)\n",
    "# aggregate by group to summarize\n",
    "fig = px.line(type_gas,\n",
    "# line chart over time\n",
    "                   x='Year', y = \"Type\", \n",
    "                   color = \"TYPE\", color_discrete_sequence=px.colors.qualitative.Light24)\n",
    "fig.update_traces(mode='markers+lines')\n",
    "# style traces (markers/lines)\n",
    "fig.update_layout(\n",
    "# tweak titles, axes, legend for readability\n",
    "    title=\"Fuel Type Price Trend\",\n",
    "    xaxis_title=\"Year\",\n",
    "    yaxis_title=\"Annual Average Price, Cents per Litre\")\n",
    "fig.show()\n",
    "# display the chart"
   ]
  },
  {
   "cell_type": "markdown",
   "id": "65d0d8fa-dec8-4971-8a86-22d0ca1896dc",
   "metadata": {},
   "source": [
    "We can also use the animated time frame to show the trend of gasoline prices over time.\n"
   ]
  },
  {
   "cell_type": "code",
   "execution_count": null,
   "id": "9f1c9196-cb31-485b-aa93-7ce99f829271",
   "metadata": {},
   "outputs": [],
   "source": [
    "bycity = data.groupby(['Year', 'City'])['VALUE'].mean().reset_index(name ='Value').round(2)\n",
    "# aggregate by group to summarize\n",
    "bycity.head()\n",
    "# quick peek at first rows"
   ]
  },
  {
   "cell_type": "code",
   "execution_count": null,
   "id": "1a0f2713-df3c-4f3f-836a-6bb0905bec11",
   "metadata": {},
   "outputs": [],
   "source": [
    "fig = px.bar(bycity,  \n",
    "# bar chart to compare categories/periods\n",
    "            x='City', y = \"Value\", animation_frame=\"Year\")\n",
    "fig.update_layout(\n",
    "# tweak titles, axes, legend for readability\n",
    "    title=\"Time Lapse of Average Price of Gasoline, by Province\",\n",
    "    xaxis_title=\"Year\",\n",
    "    yaxis_title=\"Average Price of Gasoline, Cents per Litre\")\n",
    "\n",
    "fig.show()\n",
    "# display the chart\n",
    " "
   ]
  },
  {
   "cell_type": "markdown",
   "id": "4401f82b-6aa5-48fb-b3a8-9fe8298f3c2a",
   "metadata": {},
   "source": [
    "Another way to display the distribution of average gasoline prices in Canadian Provinces is by plotting a map. We will use 2021 year to display the average gasoline price in all Canadian Provinces.\n",
    "First, we select the year.\n"
   ]
  },
  {
   "cell_type": "code",
   "execution_count": null,
   "id": "ced100bf-ec17-4aff-b515-901842cb4ccb",
   "metadata": {},
   "outputs": [],
   "source": [
    "one_year = data[data['Year'] == 2021]\n",
    "one_year.head()\n",
    "# quick peek at first rows"
   ]
  },
  {
   "cell_type": "markdown",
   "id": "e95465b9-c72a-4585-95b7-cbdb8f83791e",
   "metadata": {},
   "source": [
    "Then, we group by the 'Province' and the 'mean' values of gasoline prices per each province. We also need to index each province with province id. \n"
   ]
  },
  {
   "cell_type": "code",
   "execution_count": null,
   "id": "69c78688-fa1a-4c28-ac4c-098b2e4dbbcb",
   "metadata": {},
   "outputs": [],
   "source": [
    "geodata =  one_year.groupby('Province')['VALUE'].mean().reset_index(name ='Average Gasoline Price').round(2)\n",
    "# aggregate by group to summarize\n",
    "\n",
    "provinces={' Newfoundland and Labrador':5,\n",
    " ' Prince Edward Island':8,\n",
    " ' Nova Scotia':2,\n",
    " ' New Brunswick':7,\n",
    " ' Quebec':1,\n",
    " ' Ontario':11,\n",
    " ' Ontario part, Ontario/Quebec':12,\n",
    " ' Manitoba':10,\n",
    " ' Saskatchewan':3,\n",
    " ' Alberta':4,\n",
    " ' British Columbia':6,\n",
    " ' Yukon':9,\n",
    " ' Northwest Territories':13\n",
    "}\n",
    "geodata['ProvinceID']=geodata['Province'].map(provinces)\n",
    "display(geodata)\n",
    "\n"
   ]
  },
  {
   "cell_type": "markdown",
   "id": "6bba6ecd-2a18-4b7c-b0c7-f06353ea82f5",
   "metadata": {},
   "source": [
    "Here, we are linking each province by its specified 'provinceID' with another dataset, ‘canada_provinces.geojson’, containing all the mapping information for plotting our provinces.\n",
    "\n",
    "First, we need to download the Canadian Provinces dataset from IBM cloud storage, using the `requests.get()` function.\n"
   ]
  },
  {
   "cell_type": "code",
   "execution_count": null,
   "id": "d5e45120-eec0-4732-845a-7be3e3f247f5",
   "metadata": {},
   "outputs": [],
   "source": [
    "geo = requests.get(\"https://cf-courses-data.s3.us.cloud-object-storage.appdomain.cloud/IBM-ML0232EN-SkillsNetwork/asset/canada_provinces.geojson\")"
   ]
  },
  {
   "cell_type": "markdown",
   "id": "2fd42ab4-cb10-46cf-9ddd-a95d15167ff5",
   "metadata": {},
   "source": [
    "Next, we will load the file as a string, using `json.loads()` function.\n"
   ]
  },
  {
   "cell_type": "code",
   "execution_count": null,
   "id": "d4f78de6-c046-4aa3-99f2-0e67306580ca",
   "metadata": {},
   "outputs": [],
   "source": [
    "mp = json.loads(geo.text)\n",
    "    \n",
    "fig = px.choropleth(geodata,\n",
    "                    locations=\"ProvinceID\",\n",
    "                    geojson=mp,\n",
    "                    featureidkey=\"properties.cartodb_id\",\n",
    "                    color=\"Average Gasoline Price\",\n",
    "                    color_continuous_scale=px.colors.diverging.Tropic,\n",
    "# color scale choice (try Tropic, Temps, Greens, Reds)\n",
    "                    scope='north america',\n",
    "                    title='<b>Average Gasoline Price </b>',                \n",
    "                    hover_name='Province',\n",
    "                    hover_data={\n",
    "                        'Average Gasoline Price' : True,\n",
    "                        'ProvinceID' : False\n",
    "                    },\n",
    "                     \n",
    "                    locationmode='geojson-id',\n",
    "                    )\n",
    "fig.update_layout(\n",
    "# tweak titles, axes, legend for readability\n",
    "    showlegend=True,\n",
    "    legend_title_text='<b>Average Gasoline Price</b>',\n",
    "    font={\"size\": 16, \"color\": \"#808080\", \"family\" : \"calibri\"},\n",
    "    margin={\"r\":0,\"t\":40,\"l\":0,\"b\":0},\n",
    "    legend=dict(orientation='v'),\n",
    "    geo=dict(bgcolor='rgba(0,0,0,0)', lakecolor='#e0fffe')\n",
    ")\n",
    "\n",
    "#Show Canada only \n",
    "fig.update_geos(showcountries=False, showcoastlines=False,\n",
    "                showland=False, fitbounds=\"locations\",\n",
    "                subunitcolor='white')\n",
    "fig.show()\n",
    "# display the chart"
   ]
  },
  {
   "cell_type": "markdown",
   "id": "3208fd1b-b3c7-435b-9b92-f256fedbdc1b",
   "metadata": {},
   "source": [
    "## Exercise 5\n"
   ]
  },
  {
   "cell_type": "markdown",
   "id": "6a64ffc5-8c8a-4e37-a595-c164d160ef7a",
   "metadata": {},
   "source": [
    "In this exercise, experiment with different color scales to make the visualization easier to read. Some suggestions are provided in the \"Hint\" section. Simply copy the above code and replace 'px.colors.diverging.Tropic', with any other color scales. For example, the sequential color scales are appropriate for most continuous data, but in some cases it can be helpful to use a diverging or cyclical color scale. Diverging color scales are appropriate for the continuous data that has a natural midpoint. For more information on *plotly* colors, please visit [this plotly documentation](https://plotly.com/python/builtin-colorscales/) web page.\n"
   ]
  },
  {
   "cell_type": "code",
   "execution_count": null,
   "id": "ed0ba5d9-fc54-4fcd-9c8b-5c96723ce1ed",
   "metadata": {},
   "outputs": [],
   "source": [
    "# Enter your code and run the cell"
   ]
  },
  {
   "cell_type": "markdown",
   "id": "034c47be-a89f-4ebc-9fa5-0a200c95f0ab",
   "metadata": {},
   "source": [
    "<details>\n",
    "<summary><strong>Hint</strong> (Click Here)</summary>\n",
    "    &emsp; &emsp; <code>\n",
    "    px.colors.diverging.Tropic\n",
    "    px.colors.diverging.Temps\n",
    "    px.colors.sequential.Greens\n",
    "    px.colors.sequential.Reds\n",
    "\n",
    "</code>\n",
    "</details>\n"
   ]
  },
  {
   "cell_type": "markdown",
   "id": "4bd28c2a-29e1-467c-8b42-82cfdf373be1",
   "metadata": {},
   "source": [
    "# Congratulations! - You have completed the lab\n"
   ]
  },
  {
   "cell_type": "markdown",
   "id": "2aaa0c99-0e1e-44f4-888c-1f91d1323f29",
   "metadata": {},
   "source": [
    "## Author\n"
   ]
  },
  {
   "cell_type": "markdown",
   "id": "e4f5594a-5522-4e6b-89e6-4a77b0027d56",
   "metadata": {},
   "source": [
    "[Svitlana Kramar](https://www.linkedin.com/in/svitlana-kramar/)\n"
   ]
  },
  {
   "cell_type": "markdown",
   "id": "48ef4f0c-fb7a-4819-bdeb-9063bea12237",
   "metadata": {},
   "source": [
    "Copyright © 2020 IBM Corporation. All rights reserved.\n",
    "\n",
    "<!--\n",
    "## Change Log\n",
    "\n",
    "| Date (YYYY-MM-DD) | Version | Changed By | Change Description      |\n",
    "| ----------------- | ------- | ---------- | ----------------------- |\n",
    "| 2022-01-18        | 0.1     |Svitlana K. | Added Introduction      |\n",
    "--!>\n"
   ]
  }
 ],
 "metadata": {
  "kernelspec": {
   "display_name": "Python",
   "language": "python",
   "name": "conda-env-python-py"
  },
  "language_info": {
   "codemirror_mode": {
    "name": "ipython",
    "version": 3
   },
   "file_extension": ".py",
   "mimetype": "text/x-python",
   "name": "python",
   "nbconvert_exporter": "python",
   "pygments_lexer": "ipython3",
   "version": "3.7.12"
  },
  "prev_pub_hash": "d1fcbce6505e3a8d08fa682fdeec162e9bcc45cbe0c523fbfca2fe7431f959c7"
 },
 "nbformat": 4,
 "nbformat_minor": 4
}
